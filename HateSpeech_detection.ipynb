{
  "nbformat": 4,
  "nbformat_minor": 0,
  "metadata": {
    "colab": {
      "name": "Tesina Data Spaces.ipynb",
      "provenance": [],
      "collapsed_sections": [],
      "toc_visible": true,
      "authorship_tag": "ABX9TyNxqVaqsrRrFLbTBCI1ZI+Q",
      "include_colab_link": true
    },
    "kernelspec": {
      "name": "python3",
      "display_name": "Python 3"
    }
  },
  "cells": [
    {
      "cell_type": "markdown",
      "metadata": {
        "id": "view-in-github",
        "colab_type": "text"
      },
      "source": [
        "<a href=\"https://colab.research.google.com/github/SimoneDutto/Hate-Speech-TwitterBot/blob/master/HateSpeech_detection.ipynb\" target=\"_parent\"><img src=\"https://colab.research.google.com/assets/colab-badge.svg\" alt=\"Open In Colab\"/></a>"
      ]
    },
    {
      "cell_type": "markdown",
      "metadata": {
        "id": "oiPo5jQrReE6",
        "colab_type": "text"
      },
      "source": [
        "## Tesina Data Spaces\n",
        "Considerazioni: stopword, lemmatize, hashtag, multinaive, logistic regression, grammar error\n",
        "https://towardsdatascience.com/detecting-hate-tweets-twitter-sentiment-analysis-780d8a82d4f6 \n",
        "https://pypi.org/project/grammar-check/"
      ]
    },
    {
      "cell_type": "markdown",
      "metadata": {
        "id": "JxNlCgNlUQGg",
        "colab_type": "text"
      },
      "source": [
        "### Import Dataset"
      ]
    },
    {
      "cell_type": "code",
      "metadata": {
        "id": "VNLSxYQ2k0Dx",
        "colab_type": "code",
        "outputId": "e83a2e24-3a3b-4375-ef5b-f171da23ecf0",
        "colab": {
          "base_uri": "https://localhost:8080/",
          "height": 365
        }
      },
      "source": [
        "pip install --user -U nltk\n",
        "pip install --user gingerit"
      ],
      "execution_count": 7,
      "outputs": [
        {
          "output_type": "stream",
          "text": [
            "Collecting gingerit\n",
            "  Downloading https://files.pythonhosted.org/packages/78/af/e537e83cbd83b60ca94530a42a0ad9b389bad50c98b0518118e653475eeb/gingerit-0.8.0-py3-none-any.whl\n",
            "Collecting requests<3.0,>=2.22\n",
            "\u001b[?25l  Downloading https://files.pythonhosted.org/packages/1a/70/1935c770cb3be6e3a8b78ced23d7e0f3b187f5cbfab4749523ed65d7c9b1/requests-2.23.0-py2.py3-none-any.whl (58kB)\n",
            "\u001b[K     |████████████████████████████████| 61kB 3.0MB/s \n",
            "\u001b[?25hRequirement already satisfied: chardet<4,>=3.0.2 in /usr/local/lib/python3.6/dist-packages (from requests<3.0,>=2.22->gingerit) (3.0.4)\n",
            "Requirement already satisfied: urllib3!=1.25.0,!=1.25.1,<1.26,>=1.21.1 in /usr/local/lib/python3.6/dist-packages (from requests<3.0,>=2.22->gingerit) (1.24.3)\n",
            "Requirement already satisfied: certifi>=2017.4.17 in /usr/local/lib/python3.6/dist-packages (from requests<3.0,>=2.22->gingerit) (2019.11.28)\n",
            "Requirement already satisfied: idna<3,>=2.5 in /usr/local/lib/python3.6/dist-packages (from requests<3.0,>=2.22->gingerit) (2.8)\n",
            "\u001b[31mERROR: google-colab 1.0.0 has requirement requests~=2.21.0, but you'll have requests 2.23.0 which is incompatible.\u001b[0m\n",
            "\u001b[31mERROR: datascience 0.10.6 has requirement folium==0.2.1, but you'll have folium 0.8.3 which is incompatible.\u001b[0m\n",
            "Installing collected packages: requests, gingerit\n",
            "Successfully installed gingerit-0.8.0 requests-2.23.0\n"
          ],
          "name": "stdout"
        },
        {
          "output_type": "display_data",
          "data": {
            "application/vnd.colab-display-data+json": {
              "pip_warning": {
                "packages": [
                  "requests"
                ]
              }
            }
          },
          "metadata": {
            "tags": []
          }
        }
      ]
    },
    {
      "cell_type": "code",
      "metadata": {
        "id": "B4KC5oOgRZH_",
        "colab_type": "code",
        "colab": {
          "base_uri": "https://localhost:8080/",
          "height": 563
        },
        "outputId": "e48ffee3-697d-4f45-f548-546e72a33069"
      },
      "source": [
        "from google.colab import drive\n",
        "\n",
        "\n",
        "drive.mount('/content/gdrive')\n",
        "!7z x /content/gdrive/My\\ Drive/Data\\ Spaces/twitter-sentiment-analysis-hatred-speech.zip \n"
      ],
      "execution_count": 1,
      "outputs": [
        {
          "output_type": "stream",
          "text": [
            "Drive already mounted at /content/gdrive; to attempt to forcibly remount, call drive.mount(\"/content/gdrive\", force_remount=True).\n",
            "\n",
            "7-Zip [64] 16.02 : Copyright (c) 1999-2016 Igor Pavlov : 2016-05-21\n",
            "p7zip Version 16.02 (locale=en_US.UTF-8,Utf16=on,HugeFiles=on,64 bits,2 CPUs Intel(R) Xeon(R) CPU @ 2.20GHz (406F0),ASM,AES-NI)\n",
            "\n",
            "Scanning the drive for archives:\n",
            "  0M Scan /content/gdrive/My Drive/Data Spaces/\b\b\b\b\b\b\b\b\b\b\b\b\b\b\b\b\b\b\b\b\b\b\b\b\b\b\b\b\b\b\b\b\b\b\b\b\b\b\b\b\b\b\b\b\b\b\b                                               \b\b\b\b\b\b\b\b\b\b\b\b\b\b\b\b\b\b\b\b\b\b\b\b\b\b\b\b\b\b\b\b\b\b\b\b\b\b\b\b\b\b\b\b\b\b\b1 file, 1982527 bytes (1937 KiB)\n",
            "\n",
            "Extracting archive: /content/gdrive/My Drive/Data Spaces/twitter-sentiment-analysis-hatred-speech.zip\n",
            "--\n",
            "Path = /content/gdrive/My Drive/Data Spaces/twitter-sentiment-analysis-hatred-speech.zip\n",
            "Type = zip\n",
            "Physical Size = 1982527\n",
            "\n",
            "  0%\b\b\b\b    \b\b\b\b\n",
            "Would you like to replace the existing file:\n",
            "  Path:     ./test.csv\n",
            "  Size:     1635543 bytes (1598 KiB)\n",
            "  Modified: 2019-10-17 08:06:28\n",
            "with the file from archive:\n",
            "  Path:     test.csv\n",
            "  Size:     1635543 bytes (1598 KiB)\n",
            "  Modified: 2019-10-17 08:06:28\n",
            "? (Y)es / (N)o / (A)lways / (S)kip all / A(u)to rename all / (Q)uit? q\n",
            "\n",
            "Archives with Errors: 1\n",
            "\n",
            "\n",
            "\n",
            "Break signaled\n"
          ],
          "name": "stdout"
        }
      ]
    },
    {
      "cell_type": "markdown",
      "metadata": {
        "id": "QmQqA96g6b6_",
        "colab_type": "text"
      },
      "source": [
        "## Preprocessing\n"
      ]
    },
    {
      "cell_type": "code",
      "metadata": {
        "id": "Azh8uj_d6baY",
        "colab_type": "code",
        "colab": {}
      },
      "source": [
        "import pandas as pd\n",
        "import numpy as np\n",
        "df1 = pd.read_csv('train.csv')\n",
        "df_test = pd.read_csv('test.csv')\n",
        "\n",
        "print(\"Hatred labeled: {}\\nNon-hatred labeled: {}\".format(\n",
        "    (df1.label == 1).sum(),\n",
        "    (df1.label == 0).sum()\n",
        "))\n",
        "#Missing Values If Any\n",
        "df1.isna().sum()\n",
        "\n"
      ],
      "execution_count": 0,
      "outputs": []
    },
    {
      "cell_type": "code",
      "metadata": {
        "id": "Dko6CQmbgWEa",
        "colab_type": "code",
        "colab": {}
      },
      "source": [
        "#importing different libraries for analysis, processing and classification\n",
        "import nltk\n",
        "from sklearn import re #regular expression for text processing\n",
        "from nltk.corpus import stopwords\n",
        "from nltk.stem import WordNetLemmatizer #word stemmer class\n",
        "lemma = WordNetLemmatizer()\n",
        "# vectorizer \n",
        "from sklearn.feature_extraction.text import CountVectorizer\n",
        "from sklearn.feature_extraction.text import TfidfVectorizer\n",
        "from sklearn.model_selection import train_test_split\n",
        "from sklearn.linear_model import LogisticRegression #classification model\n",
        "from sklearn.metrics import confusion_matrix, classification_report, f1_score # performance evaluation criteria\n",
        "#grammar-check\n",
        "from gingerit.gingerit import GingerIt\n",
        "\n",
        "text = 'The smelt of fliwers bring back memories.'\n",
        "\n",
        "\n",
        "\n",
        "nltk.download('wordnet')\n",
        "nltk.download('stopwords')\n",
        "\n",
        "stopwords = set(nltk.corpus.stopwords.words('english'))\n",
        "stopwords.add('amp') #amp doesnt mean anything, it is just the formatting label\n",
        "\n",
        "def normalizer(tweet):\n",
        "    tweets = \" \".join(filter(lambda x: x[0]!= '@' , tweet.split()))\n",
        "    tweets = re.sub('[^a-zA-Z]', ' ', tweets)\n",
        "    tweets = tweets.lower()\n",
        "    tweets = tweets.split()\n",
        "    tweets = [word for word in tweets if not word in stopwords]\n",
        "    tweets = [lemma.lemmatize(word) for word in tweets]\n",
        "    tweets = \" \".join(tweets)\n",
        "    return tweets\n",
        "\n",
        "def extract_hashtag(tweet):\n",
        "    tweets = \" \".join(filter(lambda x: x[0]== '#', tweet.split()))\n",
        "    tweets = re.sub('[^a-zA-Z]',' ',  tweets)\n",
        "    tweets = tweets.lower()\n",
        "    tweets = [lemma.lemmatize(word) for word in tweets]\n",
        "    tweets = \"\".join(tweets)\n",
        "    return tweets\n",
        "def mentions(tweet):\n",
        "    tweets = \" \".join(filter(lambda x: x[0]== '@' , tweet.split()))\n",
        "    return len(tweets)\n",
        "\n",
        "def grammar_check(tweet):\n",
        "    tweets = \" \".join(filter(lambda x: x[0]!= '@' , tweet.split()))\n",
        "    tweets = re.sub('[^a-zA-Z]', ' ', tweets)\n",
        "    tweets = tweets.lower()\n",
        "    tweets = tweets.split()\n",
        "    tweets = [word for word in tweets if not word in stopwords]\n",
        "    tweets = \" \".join(tweets)\n",
        "    #print(tweets)\n",
        "    parser = GingerIt()\n",
        "    ginger_grammar_results = parser.parse(tweets)\n",
        "    #pprint.pprint(ginger_grammar_results)\n",
        "    ginger_corrections = ginger_grammar_results['corrections']\n",
        "    return int(len(ginger_corrections))\n"
      ],
      "execution_count": 0,
      "outputs": []
    },
    {
      "cell_type": "code",
      "metadata": {
        "id": "AdsPGQsCgk1I",
        "colab_type": "code",
        "colab": {}
      },
      "source": [
        "df1['normalized_text'] = df1.tweet.apply(normalizer)\n",
        "df1['hashtag'] = df1.tweet.apply(extract_hashtag)\n",
        "df1['mentions'] = df1.tweet.apply(mentions)\n",
        "#df1['grammar_check'] = df1.tweet.iloc[:100].apply(grammar_check)\n",
        "df1['grammar_check'] = pd.read_csv('output.csv')['grammar_check']\n",
        "# print(df1['normalized_text'].head)\n",
        "# print(df1['hashtag'].head())\n",
        "print(df1['mentions'].head())\n",
        "print(df1['grammar_check'].head())\n",
        "df1.to_csv('output.csv', columns = [\"grammar_check\"])"
      ],
      "execution_count": 0,
      "outputs": []
    },
    {
      "cell_type": "code",
      "metadata": {
        "id": "R0tTuRW_oILI",
        "colab_type": "code",
        "colab": {}
      },
      "source": [
        "from nltk import FreqDist \n",
        "import matplotlib.pyplot as plt\n",
        "plt.style.use('ggplot')\n",
        "\n",
        "all_hashtags = FreqDist(list(' '.join(df1.hashtag.values).split())).most_common(10)\n",
        "hatred_hashtags = FreqDist(list(' '.join(df1[df1.label==1].hashtag.values).split())).most_common(10)\n",
        "plt.figure(figsize=(14, 6))\n",
        "ax = plt.subplot(121)\n",
        "pd.DataFrame(all_hashtags, columns=['hashtag', 'Count']).set_index('hashtag').plot.barh(ax=ax, fontsize=12)\n",
        "plt.xlabel('# occurrences')\n",
        "plt.title('Hashtags in all tweets', size=13)\n",
        "ax = plt.subplot(122)\n",
        "pd.DataFrame(hatred_hashtags, columns=['hashtag', 'Count']).set_index('hashtag').plot.barh(ax=ax, fontsize=12)\n",
        "plt.xlabel('# occurrences')\n",
        "plt.ylabel('')\n",
        "plt.title('Hashtags in hatred tweets', size=13)\n",
        "plt.show()\n",
        "print(\"\\n\")\n",
        "all_words = FreqDist(list(' '.join(df1.normalized_text.values).split())).most_common(20)\n",
        "hatred_words = FreqDist(list(' '.join(df1[df1.label==1].normalized_text.values).split())).most_common(20)\n",
        "plt.figure(figsize=(14, 6))\n",
        "ax = plt.subplot(121)\n",
        "pd.DataFrame(all_words, columns=['word', 'Count']).set_index('word').plot.barh(ax=ax, fontsize=12)\n",
        "plt.xlabel('# occurrences')\n",
        "plt.title('Words in all tweets', size=13)\n",
        "ax = plt.subplot(122)\n",
        "pd.DataFrame(hatred_words, columns=['word', 'Count']).set_index('word').plot.barh(ax=ax, fontsize=12)\n",
        "plt.xlabel('# occurrences')\n",
        "plt.ylabel('')\n",
        "plt.title('Words in hatred tweets', size=13)\n",
        "plt.show()\n",
        "\n",
        "print(\"Number of mentions: {}\\nNumber of tweets having a mention: {}\\nCorrelation with label: {}\".format(\n",
        "    df1.mentions.sum(),\n",
        "    len(df1[df1.mentions > 0]),\n",
        "    np.corrcoef(df1.mentions, df1.label)[0][1]\n",
        "))\n",
        "print(df1['grammar_check'].iloc[:100])\n",
        "print(\"Number of grammar errors: {}\\nNumber of tweets having a grammar error: {}\\nCorrelation with label: {}\".format(\n",
        "    df1.grammar_check.iloc[:1000].sum(),\n",
        "    len(df1[df1.grammar_check > 0]),\n",
        "    np.corrcoef(df1.grammar_check.iloc[:1000], df1.label.iloc[:1000])[0][1]\n",
        "))\n",
        "# non-relavant\n",
        "df1.drop('mentions', axis=1, inplace=True)\n",
        "df1.drop('grammar_check', axis=1, inplace=True)"
      ],
      "execution_count": 0,
      "outputs": []
    },
    {
      "cell_type": "code",
      "metadata": {
        "id": "yRPS316kDNSI",
        "colab_type": "code",
        "colab": {
          "base_uri": "https://localhost:8080/",
          "height": 163
        },
        "outputId": "d5e318fd-690d-4af0-f5e9-97202ed2feec"
      },
      "source": [
        "from sklearn.model_selection import train_test_split\n",
        "from sklearn.feature_extraction.text import CountVectorizer, TfidfVectorizer\n",
        "\n",
        "trainp=df1[df1['label']==1]\n",
        "trainn=df1[df1['label']==0]\n",
        "#print(trainp.info())\n",
        "#trainn.info()\n",
        "\n",
        "train_imbalanced = df1\n",
        "from sklearn.utils import resample\n",
        "df_majority = df1[df1.label==0]\n",
        "df_minority = df1[df1.label==1]\n",
        " \n",
        "# Upsample minority class\n",
        "df_minority_upsampled = resample(df_minority, \n",
        "                                 replace=True,     # sample with replacement\n",
        "                                 n_samples=len(df_majority),    # to match majority class\n",
        "                                 random_state=123) # reproducible results\n",
        " \n",
        "# Combine majority class with upsampled minority class\n",
        "df_upsampled = pd.concat([df_majority, df_minority_upsampled])\n",
        " \n",
        "# Display new class counts\n",
        "print(\"Before\")\n",
        "print(df1.label.value_counts())\n",
        "print(\"After\")\n",
        "print(df_upsampled.label.value_counts())\n",
        "X_train, X_test, y_train, y_test = train_test_split(df_upsampled['normalized_text'], df_upsampled['label'], test_size=0.5, stratify=df_upsampled['label'])\n",
        "\n",
        "vect = CountVectorizer()\n",
        "tf_train=vect.fit_transform(X_train)  #train the vectorizer, build the vocablury\n",
        "tf_test=vect.transform(X_test)\n",
        "\n",
        "df_test['normalized_text'] = df_test.tweet.apply(normalizer)\n",
        "tf_test_nolabel=vect.transform(df_test.normalized_text)\n"
      ],
      "execution_count": 81,
      "outputs": [
        {
          "output_type": "stream",
          "text": [
            "Before\n",
            "0    29720\n",
            "1     2242\n",
            "Name: label, dtype: int64\n",
            "After\n",
            "1    29720\n",
            "0    29720\n",
            "Name: label, dtype: int64\n"
          ],
          "name": "stdout"
        }
      ]
    },
    {
      "cell_type": "code",
      "metadata": {
        "id": "1xgl1UhDbByo",
        "colab_type": "code",
        "colab": {
          "base_uri": "https://localhost:8080/",
          "height": 315
        },
        "outputId": "df568dd0-4bb4-4e7b-f86d-461fc93ab38a"
      },
      "source": [
        "from sklearn.naive_bayes import MultinomialNB\n",
        "from sklearn import metrics\n",
        "\n",
        "model = MultinomialNB()\n",
        "\n",
        "model.fit(X=tf_train,y=y_train)\n",
        "expected = y_test\n",
        "predicted=model.predict(tf_test)\n",
        "print(metrics.classification_report(expected, predicted))\n",
        "#print(metrics.confusion_matrix(expected, predicted))\n",
        "\n",
        "from mlxtend.plotting import plot_confusion_matrix\n",
        "\n",
        "plot_confusion_matrix(metrics.confusion_matrix(expected, predicted))"
      ],
      "execution_count": 84,
      "outputs": [
        {
          "output_type": "execute_result",
          "data": {
            "text/plain": [
              "(<Figure size 432x288 with 1 Axes>,\n",
              " <matplotlib.axes._subplots.AxesSubplot at 0x7f18845876a0>)"
            ]
          },
          "metadata": {
            "tags": []
          },
          "execution_count": 84
        },
        {
          "output_type": "display_data",
          "data": {
            "image/png": "[encoded data removed]",
            "text/plain": [
              "<Figure size 432x288 with 1 Axes>"
            ]
          },
          "metadata": {
            "tags": []
          }
        }
      ]
    }
  ]
}